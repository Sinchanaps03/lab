{
 "cells": [
  {
   "cell_type": "code",
   "execution_count": 2,
   "id": "142191ce",
   "metadata": {},
   "outputs": [],
   "source": [
    "import pandas as pd"
   ]
  },
  {
   "cell_type": "code",
   "execution_count": 12,
   "id": "fd148235",
   "metadata": {},
   "outputs": [
    {
     "name": "stdout",
     "output_type": "stream",
     "text": [
      "Training Data: \n",
      "  CGPA Intera  Practical Communication Logical  Interest  Job\n",
      "0  >=9    Yes  Excellent          Good     Fast      Yes  Yes\n",
      "1  >=9    Yes       Good          Good     Fast      Yes  Yes\n",
      "2  >=8     No       Good          Good     Fast       No   No\n",
      "3  >=9    Yes       Good          Good     Slow       No  Yes\n",
      "The final hypothesis is: ['Yes', 'Good', 'Good', '?', '?']\n"
     ]
    }
   ],
   "source": [
    "# Load data\n",
    "data = pd.read_csv('4th.csv')\n",
    "\n",
    "# Separate features and target\n",
    "X = data.iloc[:, 1:-1].values\n",
    "y = data.iloc[:, -1].values\n",
    "\n",
    "# Find-S algorithm\n",
    "hypothesis = ['?' for _ in range(X.shape[1])]\n",
    "for i in range(len(y)):\n",
    "    if y[i].lower() == 'yes':\n",
    "        for j in range(len(hypothesis)):\n",
    "            if hypothesis[j] == '?':\n",
    "                hypothesis[j] = X[i][j]\n",
    "            elif hypothesis[j] != X[i][j]:\n",
    "                hypothesis[j] = '?'\n",
    "print(f'Training Data: \\n{data}')\n",
    "print(\"The final hypothesis is:\", hypothesis)"
   ]
  },
  {
   "cell_type": "code",
   "execution_count": 3,
   "id": "5cf80801",
   "metadata": {},
   "outputs": [
    {
     "ename": "NameError",
     "evalue": "name 'pd' is not defined",
     "output_type": "error",
     "traceback": [
      "\u001b[1;31m---------------------------------------------------------------------------\u001b[0m",
      "\u001b[1;31mNameError\u001b[0m                                 Traceback (most recent call last)",
      "Cell \u001b[1;32mIn[3], line 2\u001b[0m\n\u001b[0;32m      1\u001b[0m \u001b[38;5;28;01mimport\u001b[39;00m \u001b[38;5;21;01mmatplotlib\u001b[39;00m\u001b[38;5;21;01m.\u001b[39;00m\u001b[38;5;21;01mpyplot\u001b[39;00m \u001b[38;5;28;01mas\u001b[39;00m \u001b[38;5;21;01mplt\u001b[39;00m\n\u001b[1;32m----> 2\u001b[0m data\u001b[38;5;241m=\u001b[39m\u001b[43mpd\u001b[49m\u001b[38;5;241m.\u001b[39mread_csv(\u001b[38;5;124m'\u001b[39m\u001b[38;5;124m4th.csv\u001b[39m\u001b[38;5;124m'\u001b[39m)\n\u001b[0;32m      3\u001b[0m X\u001b[38;5;241m=\u001b[39mdata\u001b[38;5;241m.\u001b[39miloc[:,\u001b[38;5;241m1\u001b[39m:\u001b[38;5;241m-\u001b[39m\u001b[38;5;241m1\u001b[39m]\u001b[38;5;241m.\u001b[39mvalues\n\u001b[0;32m      4\u001b[0m y\u001b[38;5;241m=\u001b[39mdata\u001b[38;5;241m.\u001b[39miloc[:,\u001b[38;5;241m-\u001b[39m\u001b[38;5;241m1\u001b[39m]\u001b[38;5;241m.\u001b[39mvalues\n",
      "\u001b[1;31mNameError\u001b[0m: name 'pd' is not defined"
     ]
    }
   ],
   "source": [
    "import matplotlib.pyplot as plt\n",
    "data=pd.read_csv('4th.csv')\n",
    "X=data.iloc[:,1:-1].values\n",
    "y=data.iloc[:,-1].values\n",
    "hypothesis=['?' for _ in range(X.shape[1])]\n",
    "for i in range(len(y)):\n",
    "  if y[i].lower()=='yes':\n",
    "    for j in range(len(hypothesis)):\n",
    "      if hypothesis[j]=='?':\n",
    "        hypothesis[j]==X[i][j]\n",
    "      elif hypothesis[j]!=X[i][j]:\n",
    "        hypothesis[j]='?'\n",
    "print(f'Training data \\n{data}')\n",
    "print('the final hypothesis:',hypothesis)"
   ]
  }
 ],
 "metadata": {
  "kernelspec": {
   "display_name": "Python 3",
   "language": "python",
   "name": "python3"
  },
  "language_info": {
   "codemirror_mode": {
    "name": "ipython",
    "version": 3
   },
   "file_extension": ".py",
   "mimetype": "text/x-python",
   "name": "python",
   "nbconvert_exporter": "python",
   "pygments_lexer": "ipython3",
   "version": "3.12.7"
  }
 },
 "nbformat": 4,
 "nbformat_minor": 5
}
