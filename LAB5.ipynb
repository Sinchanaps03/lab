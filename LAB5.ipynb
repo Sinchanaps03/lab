{
 "cells": [
  {
   "cell_type": "code",
   "execution_count": 2,
   "id": "e0165402",
   "metadata": {},
   "outputs": [],
   "source": [
    "from sklearn.neighbors import KNeighborsClassifier\n",
    "import numpy as np"
   ]
  },
  {
   "cell_type": "code",
   "execution_count": 3,
   "id": "28fe67c5",
   "metadata": {},
   "outputs": [
    {
     "name": "stdout",
     "output_type": "stream",
     "text": [
      "\n",
      "K = 30\n",
      "x51 = 0.564 -> Predicted Label: Class2\n",
      "x52 = 0.457 -> Predicted Label: Class1\n",
      "x53 = 0.895 -> Predicted Label: Class2\n",
      "x54 = 0.934 -> Predicted Label: Class2\n",
      "x55 = 0.253 -> Predicted Label: Class1\n",
      "x56 = 0.811 -> Predicted Label: Class2\n",
      "x57 = 0.022 -> Predicted Label: Class1\n",
      "x58 = 0.724 -> Predicted Label: Class2\n",
      "x59 = 0.435 -> Predicted Label: Class1\n",
      "x60 = 0.494 -> Predicted Label: Class1\n",
      "x61 = 0.730 -> Predicted Label: Class2\n",
      "x62 = 0.574 -> Predicted Label: Class2\n",
      "x63 = 0.206 -> Predicted Label: Class1\n",
      "x64 = 0.903 -> Predicted Label: Class2\n",
      "x65 = 0.379 -> Predicted Label: Class1\n",
      "x66 = 0.596 -> Predicted Label: Class2\n",
      "x67 = 0.889 -> Predicted Label: Class2\n",
      "x68 = 0.694 -> Predicted Label: Class2\n",
      "x69 = 0.584 -> Predicted Label: Class2\n",
      "x70 = 0.471 -> Predicted Label: Class1\n",
      "x71 = 0.992 -> Predicted Label: Class2\n",
      "x72 = 0.489 -> Predicted Label: Class1\n",
      "x73 = 0.380 -> Predicted Label: Class1\n",
      "x74 = 0.767 -> Predicted Label: Class2\n",
      "x75 = 0.310 -> Predicted Label: Class1\n",
      "x76 = 0.452 -> Predicted Label: Class1\n",
      "x77 = 0.187 -> Predicted Label: Class1\n",
      "x78 = 0.674 -> Predicted Label: Class2\n",
      "x79 = 0.154 -> Predicted Label: Class1\n",
      "x80 = 0.936 -> Predicted Label: Class2\n",
      "x81 = 0.117 -> Predicted Label: Class1\n",
      "x82 = 0.318 -> Predicted Label: Class1\n",
      "x83 = 0.548 -> Predicted Label: Class2\n",
      "x84 = 0.605 -> Predicted Label: Class2\n",
      "x85 = 0.662 -> Predicted Label: Class2\n",
      "x86 = 0.795 -> Predicted Label: Class2\n",
      "x87 = 0.420 -> Predicted Label: Class1\n",
      "x88 = 0.308 -> Predicted Label: Class1\n",
      "x89 = 0.996 -> Predicted Label: Class2\n",
      "x90 = 0.705 -> Predicted Label: Class2\n",
      "x91 = 0.205 -> Predicted Label: Class1\n",
      "x92 = 0.928 -> Predicted Label: Class2\n",
      "x93 = 0.553 -> Predicted Label: Class2\n",
      "x94 = 0.225 -> Predicted Label: Class1\n",
      "x95 = 0.344 -> Predicted Label: Class1\n",
      "x96 = 0.707 -> Predicted Label: Class2\n",
      "x97 = 0.112 -> Predicted Label: Class1\n",
      "x98 = 0.410 -> Predicted Label: Class1\n",
      "x99 = 0.098 -> Predicted Label: Class1\n",
      "x100 = 0.132 -> Predicted Label: Class1\n"
     ]
    }
   ],
   "source": [
    "X = np.random.rand(100, 1)\n",
    "y = (X[:50].flatten() > 0.5).astype(int)\n",
    "X_train, y_train, X_test = X[:50], y, X[50:]\n",
    "for k in [1, 2, 3, 4, 5, 20, 30]:\n",
    "    knn = KNeighborsClassifier(n_neighbors=k)\n",
    "    knn.fit(X_train, y_train)\n",
    "    y_pred = knn.predict(X_test)\n",
    "print(f\"\\nK = {k}\")\n",
    "for i in range(50):\n",
    "    label = \"Class1\" if y_pred[i] == 0 else \"Class2\"\n",
    "    print(f\"x{i+51} = {X_test[i][0]:.3f} -> Predicted Label: {label}\")"
   ]
  },
  {
   "cell_type": "code",
   "execution_count": 4,
   "id": "100525a8",
   "metadata": {},
   "outputs": [
    {
     "name": "stdout",
     "output_type": "stream",
     "text": [
      "\n",
      "k=30\n",
      "X51=True->predicted label=class2\n",
      "X52=True->predicted label=class2\n",
      "X53=True->predicted label=class2\n",
      "X54=True->predicted label=class2\n",
      "X55=False->predicted label=Class1\n",
      "X56=True->predicted label=class2\n",
      "X57=True->predicted label=class2\n",
      "X58=True->predicted label=class2\n",
      "X59=True->predicted label=class2\n",
      "X60=True->predicted label=class2\n",
      "X61=False->predicted label=Class1\n",
      "X62=True->predicted label=class2\n",
      "X63=True->predicted label=class2\n",
      "X64=True->predicted label=class2\n",
      "X65=True->predicted label=class2\n",
      "X66=True->predicted label=class2\n",
      "X67=False->predicted label=Class1\n",
      "X68=True->predicted label=class2\n",
      "X69=True->predicted label=class2\n",
      "X70=False->predicted label=Class1\n",
      "X71=True->predicted label=class2\n",
      "X72=False->predicted label=Class1\n",
      "X73=True->predicted label=class2\n",
      "X74=False->predicted label=Class1\n",
      "X75=True->predicted label=class2\n",
      "X76=False->predicted label=Class1\n",
      "X77=False->predicted label=Class1\n",
      "X78=False->predicted label=Class1\n",
      "X79=False->predicted label=Class1\n",
      "X80=True->predicted label=class2\n"
     ]
    }
   ],
   "source": [
    "import numpy as np\n",
    "from sklearn.neighbors import KNeighborsClassifier\n",
    "X=np.random.rand(100,1)\n",
    "y=(X[:50].flatten()>0.5).astype(int)\n",
    "X_train,y_train,X_test=X[:50],y,X[50:]\n",
    "for k in [1,2,3,4,5,20,30]:\n",
    "  knn=KNeighborsClassifier(n_neighbors=2)\n",
    "  knn.fit(X_train,y_train)\n",
    "  y_pred=knn.predict(X_test)\n",
    "print(f\"\\nk={k}\")\n",
    "for i in range(k):\n",
    "  label=\"Class1\" if y_pred[i]==0 else \"class2\"\n",
    "  print(f\"X{i+51}={X_test[i][0]>0.5}->predicted label={label}\")"
   ]
  }
 ],
 "metadata": {
  "kernelspec": {
   "display_name": "Python 3",
   "language": "python",
   "name": "python3"
  },
  "language_info": {
   "codemirror_mode": {
    "name": "ipython",
    "version": 3
   },
   "file_extension": ".py",
   "mimetype": "text/x-python",
   "name": "python",
   "nbconvert_exporter": "python",
   "pygments_lexer": "ipython3",
   "version": "3.12.7"
  }
 },
 "nbformat": 4,
 "nbformat_minor": 5
}
